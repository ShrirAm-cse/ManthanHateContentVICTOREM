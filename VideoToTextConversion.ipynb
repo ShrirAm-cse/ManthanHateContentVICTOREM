{
 "cells": [
  {
   "cell_type": "code",
   "execution_count": 1,
   "id": "3f44c78e",
   "metadata": {},
   "outputs": [],
   "source": [
    "\n",
    "import moviepy.editor\n",
    "from tkinter.filedialog import *"
   ]
  },
  {
   "cell_type": "code",
   "execution_count": 2,
   "id": "95b7a433",
   "metadata": {},
   "outputs": [],
   "source": [
    "video = \"C:\\\\Users\\\\adesh\\\\Downloads\\\\videoplayback2.mp4\"\n",
    "video = moviepy.editor.VideoFileClip(video)"
   ]
  },
  {
   "cell_type": "code",
   "execution_count": 3,
   "id": "b15b4281",
   "metadata": {},
   "outputs": [],
   "source": [
    "audio=video.audio"
   ]
  },
  {
   "cell_type": "code",
   "execution_count": 4,
   "id": "0e8b97f3",
   "metadata": {},
   "outputs": [
    {
     "name": "stdout",
     "output_type": "stream",
     "text": [
      "MoviePy - Writing audio in D:\\newtargetaudio.wav\n"
     ]
    },
    {
     "name": "stderr",
     "output_type": "stream",
     "text": [
      "                                                                      "
     ]
    },
    {
     "name": "stdout",
     "output_type": "stream",
     "text": [
      "MoviePy - Done.\n"
     ]
    },
    {
     "name": "stderr",
     "output_type": "stream",
     "text": [
      "\r"
     ]
    }
   ],
   "source": [
    "audio.write_audiofile(\"D:\\\\newtargetaudio.wav\")"
   ]
  },
  {
   "cell_type": "code",
   "execution_count": 5,
   "id": "06d43ff7",
   "metadata": {},
   "outputs": [],
   "source": [
    "import speech_recognition as sr"
   ]
  },
  {
   "cell_type": "code",
   "execution_count": 6,
   "id": "5ace07ee",
   "metadata": {},
   "outputs": [],
   "source": [
    "import os \n",
    "from pydub import AudioSegment\n",
    "from pydub.silence import split_on_silence\n",
    "\n",
    "# create a speech recognition object\n",
    "r = sr.Recognizer()\n",
    "\n",
    "# a function that splits the audio file into chunks\n",
    "# and applies speech recognition\n",
    "def get_large_audio_transcription(path):\n",
    "    \"\"\"\n",
    "    Splitting the large audio file into chunks\n",
    "    and apply speech recognition on each of these chunks\n",
    "    \"\"\"\n",
    "    # open the audio file using pydub\n",
    "    sound = AudioSegment.from_wav(path)  \n",
    "    # split audio sound where silence is 700 miliseconds or more and get chunks\n",
    "    chunks = split_on_silence(sound,\n",
    "        # experiment with this value for your target audio file\n",
    "        min_silence_len = 3000,\n",
    "        # adjust this per requirement\n",
    "        silence_thresh = sound.dBFS-14,\n",
    "        # keep the silence for 1 second, adjustable as well\n",
    "        keep_silence=500,\n",
    "    )\n",
    "    folder_name = \"audio-chunks\"\n",
    "    # create a directory to store the audio chunks\n",
    "    if not os.path.isdir(folder_name):\n",
    "        os.mkdir(folder_name)\n",
    "    whole_text = \"\"\n",
    "    # process each chunk \n",
    "    for i, audio_chunk in enumerate(chunks, start=1):\n",
    "        # export audio chunk and save it in\n",
    "        # the `folder_name` directory.\n",
    "        chunk_filename = os.path.join(folder_name, f\"chunk{i}.wav\")\n",
    "        audio_chunk.export(chunk_filename, format=\"wav\")\n",
    "        # recognize the chunk\n",
    "        with sr.AudioFile(chunk_filename) as source:\n",
    "            audio_listened = r.record(source)\n",
    "            # try converting it to text\n",
    "            try:\n",
    "                text = r.recognize_google(audio_listened)\n",
    "            except sr.UnknownValueError as e:\n",
    "                pass\n",
    "                #print(\"Error:\", str(e))\n",
    "            else:\n",
    "                text = f\"{text.capitalize()}. \"\n",
    "                #print(chunk_filename, \":\", text)\n",
    "                whole_text += text\n",
    "    # return the text for all chunks detected\n",
    "    return whole_text"
   ]
  },
  {
   "cell_type": "code",
   "execution_count": 7,
   "id": "51dc7810",
   "metadata": {},
   "outputs": [
    {
     "data": {
      "text/plain": [
       "'How many categories to you store displays book store on the characters required to qualify you mean by taking that indicates that facebook flexible 96 categories for those two billion active users that 192 billion data points been generated i can get any time from consumers google bullet so how many do you does facebook store reduced or any sure what that is referring to how many states are there and facebook web pages facebook that is free and not everyone around the world into about close together in order to that we believe the vinita for service that everyone can afford and work emitted during 8. Sunday b12. Some people prefer to the amazon stanford. Geography sun derived not regard. Sandra underwear. Do you think that during the 2016 campaign as cambridge analytica was providing support to the trump campaign and protect animals with their any facebook people involved in sharing a technical information we provided support to the trump campaign similar to what we provide to any advertiser or campaign which of the following was the name of the hotel used in my friend i am. Know if you message to anybody this week with you share the names of the people your message here. What is included in the. '"
      ]
     },
     "execution_count": 7,
     "metadata": {},
     "output_type": "execute_result"
    }
   ],
   "source": [
    "get_large_audio_transcription(\"D:\\\\newtargetaudio.wav\")"
   ]
  },
  {
   "cell_type": "code",
   "execution_count": null,
   "id": "c727e0bf",
   "metadata": {},
   "outputs": [],
   "source": []
  }
 ],
 "metadata": {
  "kernelspec": {
   "display_name": "Python 3 (ipykernel)",
   "language": "python",
   "name": "python3"
  },
  "language_info": {
   "codemirror_mode": {
    "name": "ipython",
    "version": 3
   },
   "file_extension": ".py",
   "mimetype": "text/x-python",
   "name": "python",
   "nbconvert_exporter": "python",
   "pygments_lexer": "ipython3",
   "version": "3.9.7"
  }
 },
 "nbformat": 4,
 "nbformat_minor": 5
}
