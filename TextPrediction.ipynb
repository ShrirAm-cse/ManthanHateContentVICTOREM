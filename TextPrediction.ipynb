{
 "cells": [
  {
   "cell_type": "code",
   "execution_count": 2,
   "id": "e3454226",
   "metadata": {},
   "outputs": [
    {
     "name": "stdout",
     "output_type": "stream",
     "text": [
      "Training Set: (27025, 8) 27025\n"
     ]
    }
   ],
   "source": [
    "import pandas as pd\n",
    "import numpy as np\n",
    "\n",
    "train = pd.read_csv(\"D:\\sample_dataset.csv\")\n",
    "print(\"Training Set:\"% train.columns, train.shape, len(train))\n"
   ]
  },
  {
   "cell_type": "code",
   "execution_count": 3,
   "id": "91b7c3b1",
   "metadata": {},
   "outputs": [
    {
     "data": {
      "text/html": [
       "<div>\n",
       "<style scoped>\n",
       "    .dataframe tbody tr th:only-of-type {\n",
       "        vertical-align: middle;\n",
       "    }\n",
       "\n",
       "    .dataframe tbody tr th {\n",
       "        vertical-align: top;\n",
       "    }\n",
       "\n",
       "    .dataframe thead th {\n",
       "        text-align: right;\n",
       "    }\n",
       "</style>\n",
       "<table border=\"1\" class=\"dataframe\">\n",
       "  <thead>\n",
       "    <tr style=\"text-align: right;\">\n",
       "      <th></th>\n",
       "      <th>tweet</th>\n",
       "      <th>hate</th>\n",
       "      <th>userID</th>\n",
       "      <th>likes</th>\n",
       "      <th>comments</th>\n",
       "      <th>views</th>\n",
       "      <th>shares</th>\n",
       "      <th>tags</th>\n",
       "    </tr>\n",
       "  </thead>\n",
       "  <tbody>\n",
       "    <tr>\n",
       "      <th>0</th>\n",
       "      <td>!!! RT @mayasolovely: As a woman you shouldn't...</td>\n",
       "      <td>0</td>\n",
       "      <td>9CAA8AE2</td>\n",
       "      <td>712</td>\n",
       "      <td>183</td>\n",
       "      <td>283</td>\n",
       "      <td>246</td>\n",
       "      <td>23</td>\n",
       "    </tr>\n",
       "    <tr>\n",
       "      <th>1</th>\n",
       "      <td>!!!!! RT @mleew17: boy dats cold...tyga dwn ba...</td>\n",
       "      <td>0</td>\n",
       "      <td>1069B853</td>\n",
       "      <td>856</td>\n",
       "      <td>828</td>\n",
       "      <td>625</td>\n",
       "      <td>1</td>\n",
       "      <td>5</td>\n",
       "    </tr>\n",
       "    <tr>\n",
       "      <th>2</th>\n",
       "      <td>!!!!!!! RT @UrKindOfBrand Dawg!!!! RT @80sbaby...</td>\n",
       "      <td>0</td>\n",
       "      <td>F4468A56</td>\n",
       "      <td>59</td>\n",
       "      <td>150</td>\n",
       "      <td>778</td>\n",
       "      <td>45</td>\n",
       "      <td>90</td>\n",
       "    </tr>\n",
       "    <tr>\n",
       "      <th>3</th>\n",
       "      <td>!!!!!!!!! RT @C_G_Anderson: @viva_based she lo...</td>\n",
       "      <td>0</td>\n",
       "      <td>978BF9DB</td>\n",
       "      <td>183</td>\n",
       "      <td>752</td>\n",
       "      <td>1473</td>\n",
       "      <td>460</td>\n",
       "      <td>87</td>\n",
       "    </tr>\n",
       "    <tr>\n",
       "      <th>4</th>\n",
       "      <td>!!!!!!!!!!!!! RT @ShenikaRoberts: The shit you...</td>\n",
       "      <td>1</td>\n",
       "      <td>2AAE69DE</td>\n",
       "      <td>232</td>\n",
       "      <td>453</td>\n",
       "      <td>438</td>\n",
       "      <td>634</td>\n",
       "      <td>6</td>\n",
       "    </tr>\n",
       "  </tbody>\n",
       "</table>\n",
       "</div>"
      ],
      "text/plain": [
       "                                               tweet  hate    userID  likes  \\\n",
       "0  !!! RT @mayasolovely: As a woman you shouldn't...     0  9CAA8AE2    712   \n",
       "1  !!!!! RT @mleew17: boy dats cold...tyga dwn ba...     0  1069B853    856   \n",
       "2  !!!!!!! RT @UrKindOfBrand Dawg!!!! RT @80sbaby...     0  F4468A56     59   \n",
       "3  !!!!!!!!! RT @C_G_Anderson: @viva_based she lo...     0  978BF9DB    183   \n",
       "4  !!!!!!!!!!!!! RT @ShenikaRoberts: The shit you...     1  2AAE69DE    232   \n",
       "\n",
       "   comments  views  shares  tags  \n",
       "0       183    283     246    23  \n",
       "1       828    625       1     5  \n",
       "2       150    778      45    90  \n",
       "3       752   1473     460    87  \n",
       "4       453    438     634     6  "
      ]
     },
     "execution_count": 3,
     "metadata": {},
     "output_type": "execute_result"
    }
   ],
   "source": [
    "    \n",
    "    train.head()"
   ]
  },
  {
   "cell_type": "code",
   "execution_count": 4,
   "id": "886dc7d2",
   "metadata": {},
   "outputs": [],
   "source": [
    "from nltk.corpus import stopwords\n",
    "stop = stopwords.words('english')"
   ]
  },
  {
   "cell_type": "code",
   "execution_count": 5,
   "id": "1f7a943a",
   "metadata": {},
   "outputs": [],
   "source": [
    "import re\n",
    "def  clean_text(df, text_field):\n",
    "    df[text_field] = df[text_field].str.lower()\n",
    "    df[text_field] = df[text_field].apply(lambda elem: re.sub(r\"(@[A-Za-z0-9]+)|(\\d)|([^0-9A-Za-z \\t])|(\\w+:\\/\\/\\S+)|^rt|https?.+?\", \"\", elem)) \n",
    "    df[text_field] = df[text_field].apply(lambda x:' '.join([word for word in x.split() if word not in (stop)]))\n",
    "    return df\n",
    "#test_clean = clean_text(test, \"tweet\")\n",
    "train_clean = clean_text(train, \"tweet\")"
   ]
  },
  {
   "cell_type": "code",
   "execution_count": 6,
   "id": "444bc6f0",
   "metadata": {},
   "outputs": [
    {
     "data": {
      "text/html": [
       "<div>\n",
       "<style scoped>\n",
       "    .dataframe tbody tr th:only-of-type {\n",
       "        vertical-align: middle;\n",
       "    }\n",
       "\n",
       "    .dataframe tbody tr th {\n",
       "        vertical-align: top;\n",
       "    }\n",
       "\n",
       "    .dataframe thead th {\n",
       "        text-align: right;\n",
       "    }\n",
       "</style>\n",
       "<table border=\"1\" class=\"dataframe\">\n",
       "  <thead>\n",
       "    <tr style=\"text-align: right;\">\n",
       "      <th></th>\n",
       "      <th>tweet</th>\n",
       "      <th>hate</th>\n",
       "      <th>userID</th>\n",
       "      <th>likes</th>\n",
       "      <th>comments</th>\n",
       "      <th>views</th>\n",
       "      <th>shares</th>\n",
       "      <th>tags</th>\n",
       "    </tr>\n",
       "  </thead>\n",
       "  <tbody>\n",
       "    <tr>\n",
       "      <th>0</th>\n",
       "      <td>rt woman shouldnt complain cleaning house amp ...</td>\n",
       "      <td>0</td>\n",
       "      <td>9CAA8AE2</td>\n",
       "      <td>712</td>\n",
       "      <td>183</td>\n",
       "      <td>283</td>\n",
       "      <td>246</td>\n",
       "      <td>23</td>\n",
       "    </tr>\n",
       "    <tr>\n",
       "      <th>1</th>\n",
       "      <td>rt boy dats coldtyga dwn bad cuffin dat hoe st...</td>\n",
       "      <td>0</td>\n",
       "      <td>1069B853</td>\n",
       "      <td>856</td>\n",
       "      <td>828</td>\n",
       "      <td>625</td>\n",
       "      <td>1</td>\n",
       "      <td>5</td>\n",
       "    </tr>\n",
       "    <tr>\n",
       "      <th>2</th>\n",
       "      <td>rt dawg rt ever fuck bitch start cry confused ...</td>\n",
       "      <td>0</td>\n",
       "      <td>F4468A56</td>\n",
       "      <td>59</td>\n",
       "      <td>150</td>\n",
       "      <td>778</td>\n",
       "      <td>45</td>\n",
       "      <td>90</td>\n",
       "    </tr>\n",
       "    <tr>\n",
       "      <th>3</th>\n",
       "      <td>rt ganderson based look like tranny</td>\n",
       "      <td>0</td>\n",
       "      <td>978BF9DB</td>\n",
       "      <td>183</td>\n",
       "      <td>752</td>\n",
       "      <td>1473</td>\n",
       "      <td>460</td>\n",
       "      <td>87</td>\n",
       "    </tr>\n",
       "    <tr>\n",
       "      <th>4</th>\n",
       "      <td>rt shit hear might true might faker bitch told ya</td>\n",
       "      <td>1</td>\n",
       "      <td>2AAE69DE</td>\n",
       "      <td>232</td>\n",
       "      <td>453</td>\n",
       "      <td>438</td>\n",
       "      <td>634</td>\n",
       "      <td>6</td>\n",
       "    </tr>\n",
       "    <tr>\n",
       "      <th>...</th>\n",
       "      <td>...</td>\n",
       "      <td>...</td>\n",
       "      <td>...</td>\n",
       "      <td>...</td>\n",
       "      <td>...</td>\n",
       "      <td>...</td>\n",
       "      <td>...</td>\n",
       "      <td>...</td>\n",
       "    </tr>\n",
       "    <tr>\n",
       "      <th>27020</th>\n",
       "      <td>lady banned kentucky mall jcpenny kentucky</td>\n",
       "      <td>1</td>\n",
       "      <td>CD5E4ACA</td>\n",
       "      <td>160</td>\n",
       "      <td>216</td>\n",
       "      <td>12</td>\n",
       "      <td>57</td>\n",
       "      <td>3</td>\n",
       "    </tr>\n",
       "    <tr>\n",
       "      <th>27021</th>\n",
       "      <td>omfg im offended im mailbox im proud mailboxpr...</td>\n",
       "      <td>1</td>\n",
       "      <td>278DDC3F</td>\n",
       "      <td>195</td>\n",
       "      <td>209</td>\n",
       "      <td>392</td>\n",
       "      <td>20</td>\n",
       "      <td>42</td>\n",
       "    </tr>\n",
       "    <tr>\n",
       "      <th>27022</th>\n",
       "      <td>dont balls hashtag say weasel away lumpy tony ...</td>\n",
       "      <td>1</td>\n",
       "      <td>1EBA1F62</td>\n",
       "      <td>85</td>\n",
       "      <td>209</td>\n",
       "      <td>316</td>\n",
       "      <td>29</td>\n",
       "      <td>25</td>\n",
       "    </tr>\n",
       "    <tr>\n",
       "      <th>27023</th>\n",
       "      <td>makes ask anybody god oh thank god</td>\n",
       "      <td>1</td>\n",
       "      <td>B1D808FC</td>\n",
       "      <td>31</td>\n",
       "      <td>29</td>\n",
       "      <td>288</td>\n",
       "      <td>30</td>\n",
       "      <td>32</td>\n",
       "    </tr>\n",
       "    <tr>\n",
       "      <th>27024</th>\n",
       "      <td>sikh temple vandalised calgary wso condemns act</td>\n",
       "      <td>1</td>\n",
       "      <td>8F7EBD32</td>\n",
       "      <td>18</td>\n",
       "      <td>142</td>\n",
       "      <td>23</td>\n",
       "      <td>2</td>\n",
       "      <td>25</td>\n",
       "    </tr>\n",
       "  </tbody>\n",
       "</table>\n",
       "<p>27025 rows × 8 columns</p>\n",
       "</div>"
      ],
      "text/plain": [
       "                                                   tweet  hate    userID  \\\n",
       "0      rt woman shouldnt complain cleaning house amp ...     0  9CAA8AE2   \n",
       "1      rt boy dats coldtyga dwn bad cuffin dat hoe st...     0  1069B853   \n",
       "2      rt dawg rt ever fuck bitch start cry confused ...     0  F4468A56   \n",
       "3                    rt ganderson based look like tranny     0  978BF9DB   \n",
       "4      rt shit hear might true might faker bitch told ya     1  2AAE69DE   \n",
       "...                                                  ...   ...       ...   \n",
       "27020         lady banned kentucky mall jcpenny kentucky     1  CD5E4ACA   \n",
       "27021  omfg im offended im mailbox im proud mailboxpr...     1  278DDC3F   \n",
       "27022  dont balls hashtag say weasel away lumpy tony ...     1  1EBA1F62   \n",
       "27023                 makes ask anybody god oh thank god     1  B1D808FC   \n",
       "27024    sikh temple vandalised calgary wso condemns act     1  8F7EBD32   \n",
       "\n",
       "       likes  comments  views  shares  tags  \n",
       "0        712       183    283     246    23  \n",
       "1        856       828    625       1     5  \n",
       "2         59       150    778      45    90  \n",
       "3        183       752   1473     460    87  \n",
       "4        232       453    438     634     6  \n",
       "...      ...       ...    ...     ...   ...  \n",
       "27020    160       216     12      57     3  \n",
       "27021    195       209    392      20    42  \n",
       "27022     85       209    316      29    25  \n",
       "27023     31        29    288      30    32  \n",
       "27024     18       142     23       2    25  \n",
       "\n",
       "[27025 rows x 8 columns]"
      ]
     },
     "execution_count": 6,
     "metadata": {},
     "output_type": "execute_result"
    }
   ],
   "source": [
    "train_clean"
   ]
  },
  {
   "cell_type": "code",
   "execution_count": 7,
   "id": "1af5d0c6",
   "metadata": {},
   "outputs": [],
   "source": [
    "import seaborn as sns\n",
    "import matplotlib.pyplot as plt"
   ]
  },
  {
   "cell_type": "code",
   "execution_count": 8,
   "id": "9e46abfa",
   "metadata": {},
   "outputs": [],
   "source": [
    "%matplotlib inline"
   ]
  },
  {
   "cell_type": "code",
   "execution_count": 9,
   "id": "833973d7",
   "metadata": {},
   "outputs": [
    {
     "data": {
      "image/png": "[encoded data removed]",
      "text/plain": [
       "<Figure size 432x288 with 1 Axes>"
      ]
     },
     "metadata": {
      "needs_background": "light"
     },
     "output_type": "display_data"
    }
   ],
   "source": [
    "fig = plt.figure()\n",
    "ax = fig.add_axes([0,0,1,1])\n",
    "langs = ['Not a HateSpeech','HateSpeech']\n",
    "data = [len(train_clean[train_clean.hate==0]),len(train_clean[train_clean.hate==1])]\n",
    "ax.bar(langs,data)\n",
    "plt.show()"
   ]
  },
  {
   "cell_type": "code",
   "execution_count": 10,
   "id": "eafd645e",
   "metadata": {},
   "outputs": [
    {
     "data": {
      "text/plain": [
       "1    20070\n",
       "0    20070\n",
       "Name: hate, dtype: int64"
      ]
     },
     "execution_count": 10,
     "metadata": {},
     "output_type": "execute_result"
    }
   ],
   "source": [
    "from sklearn.utils import resample\n",
    "train_majority = train_clean[train_clean.hate==0]\n",
    "train_minority = train_clean[train_clean.hate==1]\n",
    "train_minority_upsampled = resample(train_minority, \n",
    "                                 replace=True,    \n",
    "                                 n_samples=len(train_majority),   \n",
    "                                 random_state=123)\n",
    "train_upsampled = pd.concat([train_minority_upsampled, train_majority])\n",
    "train_upsampled['hate'].value_counts()"
   ]
  },
  {
   "cell_type": "code",
   "execution_count": 11,
   "id": "dabf4649",
   "metadata": {},
   "outputs": [
    {
     "data": {
      "image/png": "[encoded data removed]",
      "text/plain": [
       "<Figure size 432x288 with 1 Axes>"
      ]
     },
     "metadata": {
      "needs_background": "light"
     },
     "output_type": "display_data"
    }
   ],
   "source": [
    "fig = plt.figure()\n",
    "ax = fig.add_axes([0,0,1,1])\n",
    "langs = ['Not a HateSpeech','HateSpeech']\n",
    "data = [len(train_upsampled[train_upsampled.hate==0]),len(train_upsampled[train_upsampled.hate==1])]\n",
    "ax.bar(langs,data)\n",
    "plt.show()"
   ]
  },
  {
   "cell_type": "code",
   "execution_count": 12,
   "id": "16144a46",
   "metadata": {},
   "outputs": [],
   "source": [
    "from sklearn.feature_extraction.text import TfidfVectorizer\n",
    "from sklearn.pipeline import Pipeline\n",
    "from sklearn.feature_extraction.text import CountVectorizer\n",
    "from sklearn.feature_extraction.text import TfidfTransformer\n",
    "from sklearn.linear_model import SGDClassifier\n",
    "pipeline_sgd = Pipeline([\n",
    "    ('vect', CountVectorizer(ngram_range=(1, 5))),\n",
    "    ('tfidf',  TfidfTransformer()),\n",
    "    ('nb', SGDClassifier()),])"
   ]
  },
  {
   "cell_type": "code",
   "execution_count": 13,
   "id": "e4451529",
   "metadata": {},
   "outputs": [],
   "source": [
    "from sklearn.model_selection import train_test_split\n",
    "X_train, X_test, y_train, y_test = train_test_split(train_upsampled['tweet'],\n",
    "                                                    train_upsampled['hate'],test_size=0.15,random_state = 3)"
   ]
  },
  {
   "cell_type": "code",
   "execution_count": 14,
   "id": "23104066",
   "metadata": {},
   "outputs": [],
   "source": [
    "modelsgd = pipeline_sgd.fit(X_train, y_train)\n",
    "y_predictsgd = modelsgd.predict(X_test)\n",
    "\n"
   ]
  },
  {
   "cell_type": "code",
   "execution_count": 15,
   "id": "bb526be3",
   "metadata": {},
   "outputs": [],
   "source": [
    "from joblib import dump, load"
   ]
  },
  {
   "cell_type": "code",
   "execution_count": 16,
   "id": "ccbe8041",
   "metadata": {},
   "outputs": [
    {
     "data": {
      "text/plain": [
       "['modelSGD.joblib']"
      ]
     },
     "execution_count": 16,
     "metadata": {},
     "output_type": "execute_result"
    }
   ],
   "source": [
    "dump(modelsgd, 'modelSGD.joblib') "
   ]
  },
  {
   "cell_type": "code",
   "execution_count": 17,
   "id": "9371a860",
   "metadata": {},
   "outputs": [
    {
     "data": {
      "text/plain": [
       "0.7945445007868509"
      ]
     },
     "execution_count": 17,
     "metadata": {},
     "output_type": "execute_result"
    }
   ],
   "source": [
    "from sklearn.metrics import f1_score\n",
    "f1_score(y_test, y_predictsgd)"
   ]
  },
  {
   "cell_type": "code",
   "execution_count": 18,
   "id": "29126c0d",
   "metadata": {},
   "outputs": [
    {
     "data": {
      "text/plain": [
       "0.8048496927420694"
      ]
     },
     "execution_count": 18,
     "metadata": {},
     "output_type": "execute_result"
    }
   ],
   "source": [
    "from sklearn.metrics import accuracy_score\n",
    "accuracy_score(y_test, y_predictsgd)"
   ]
  },
  {
   "cell_type": "code",
   "execution_count": 19,
   "id": "7267e8ff",
   "metadata": {},
   "outputs": [],
   "source": [
    "from sklearn.svm import SVC\n",
    "pipeline_svc = Pipeline([\n",
    "    ('vect', CountVectorizer(ngram_range=(1, 6))), #change to 7\n",
    "    ('tfidf',  TfidfTransformer()),\n",
    "    ('nb', SVC(kernel='linear')),])"
   ]
  },
  {
   "cell_type": "code",
   "execution_count": 20,
   "id": "0b212675",
   "metadata": {},
   "outputs": [],
   "source": [
    "modelsvc = pipeline_svc.fit(X_train, y_train)\n"
   ]
  },
  {
   "cell_type": "code",
   "execution_count": 21,
   "id": "f964a6b5",
   "metadata": {},
   "outputs": [],
   "source": [
    "y_predictsvc = modelsvc.predict(X_test)"
   ]
  },
  {
   "cell_type": "code",
   "execution_count": 22,
   "id": "d81f62de",
   "metadata": {},
   "outputs": [
    {
     "data": {
      "text/plain": [
       "0.8961290322580645"
      ]
     },
     "execution_count": 22,
     "metadata": {},
     "output_type": "execute_result"
    }
   ],
   "source": [
    "f1_score(y_test, y_predictsvc)"
   ]
  },
  {
   "cell_type": "code",
   "execution_count": 23,
   "id": "01529eeb",
   "metadata": {},
   "outputs": [],
   "source": [
    "import pandas as pd\n",
    "test_dataset = pd.read_csv(\"D:\\\\Testfile.csv\")"
   ]
  },
  {
   "cell_type": "code",
   "execution_count": 24,
   "id": "cdf384c1",
   "metadata": {},
   "outputs": [],
   "source": [
    "from joblib import load\n",
    "modelsgd=load('modelSGD.joblib')\n",
    "model_predict=modelsgd.predict(test_dataset[\"tweet\"])"
   ]
  },
  {
   "cell_type": "code",
   "execution_count": 25,
   "id": "afa52865",
   "metadata": {},
   "outputs": [
    {
     "data": {
      "text/plain": [
       "array([0, 0, 1], dtype=int64)"
      ]
     },
     "execution_count": 25,
     "metadata": {},
     "output_type": "execute_result"
    }
   ],
   "source": [
    "model_predict"
   ]
  },
  {
   "cell_type": "code",
   "execution_count": null,
   "id": "45034fff",
   "metadata": {},
   "outputs": [],
   "source": []
  },
  {
   "cell_type": "code",
   "execution_count": null,
   "id": "60cf0d7e",
   "metadata": {},
   "outputs": [],
   "source": []
  },
  {
   "cell_type": "code",
   "execution_count": null,
   "id": "c0811196",
   "metadata": {},
   "outputs": [],
   "source": []
  },
  {
   "cell_type": "code",
   "execution_count": null,
   "id": "cacdf2f3",
   "metadata": {},
   "outputs": [],
   "source": []
  },
  {
   "cell_type": "code",
   "execution_count": null,
   "id": "b27c8d17",
   "metadata": {},
   "outputs": [],
   "source": [
    "\n",
    "        "
   ]
  },
  {
   "cell_type": "code",
   "execution_count": null,
   "id": "037d7244",
   "metadata": {},
   "outputs": [],
   "source": []
  },
  {
   "cell_type": "code",
   "execution_count": null,
   "id": "e4fbfe3b",
   "metadata": {},
   "outputs": [],
   "source": []
  },
  {
   "cell_type": "code",
   "execution_count": null,
   "id": "00a8101a",
   "metadata": {},
   "outputs": [],
   "source": [
    "dump(modelsvc, 'modelSVC.joblib') "
   ]
  },
  {
   "cell_type": "code",
   "execution_count": null,
   "id": "dd26ba58",
   "metadata": {},
   "outputs": [],
   "source": [
    "\n",
    "y_predict = modelsvc.predict(X_test)\n"
   ]
  },
  {
   "cell_type": "code",
   "execution_count": null,
   "id": "a35b6f04",
   "metadata": {},
   "outputs": [],
   "source": [
    "f1_score(y_test, y_predict)"
   ]
  },
  {
   "cell_type": "code",
   "execution_count": 26,
   "id": "99b2ecbc",
   "metadata": {},
   "outputs": [],
   "source": [
    "from xgboost import XGBClassifier\n"
   ]
  },
  {
   "cell_type": "code",
   "execution_count": 27,
   "id": "344dcc50",
   "metadata": {},
   "outputs": [],
   "source": [
    "pipeline_xgbc = Pipeline([\n",
    "    ('vect', CountVectorizer(ngram_range=(1, 7))),\n",
    "    ('tfidf',  TfidfTransformer()),\n",
    "    ('xgbc', XGBClassifier(learning_rate=1.0,max_depth=35,use_label_encoder=False)),])\n",
    "# xgbc= XGBClassifier(learning_rate=0.3,max_depth=5,objective= 'binary:logistic')\n"
   ]
  },
  {
   "cell_type": "code",
   "execution_count": 28,
   "id": "2a77de1b",
   "metadata": {},
   "outputs": [
    {
     "name": "stdout",
     "output_type": "stream",
     "text": [
      "[12:44:30] WARNING: ..\\src\\learner.cc:1115: Starting in XGBoost 1.3.0, the default evaluation metric used with the objective 'binary:logistic' was changed from 'error' to 'logloss'. Explicitly set eval_metric if you'd like to restore the old behavior.\n"
     ]
    }
   ],
   "source": [
    "modelxgbc = pipeline_xgbc.fit(X_train, y_train)\n",
    "\n",
    "#modelxgbc.fit(X_train, y_train)"
   ]
  },
  {
   "cell_type": "code",
   "execution_count": 29,
   "id": "411c53d1",
   "metadata": {},
   "outputs": [],
   "source": [
    "yxgbc_predict=modelxgbc.predict(X_test)"
   ]
  },
  {
   "cell_type": "code",
   "execution_count": 30,
   "id": "b8384151",
   "metadata": {},
   "outputs": [
    {
     "data": {
      "text/plain": [
       "0.862244112667385"
      ]
     },
     "execution_count": 30,
     "metadata": {},
     "output_type": "execute_result"
    }
   ],
   "source": [
    "f1_score(y_test, yxgbc_predict)"
   ]
  },
  {
   "cell_type": "code",
   "execution_count": 31,
   "id": "921e498a",
   "metadata": {},
   "outputs": [],
   "source": [
    "from sklearn.ensemble import VotingClassifier\n"
   ]
  },
  {
   "cell_type": "code",
   "execution_count": 32,
   "id": "33c4b16b",
   "metadata": {},
   "outputs": [],
   "source": [
    "voting = VotingClassifier(\n",
    "    estimators=[('sgdclassifier', modelsgd), ('svcclassifier', modelsvc), ('xgbclassifier', modelxgbc)],\n",
    "    voting='hard')"
   ]
  },
  {
   "cell_type": "code",
   "execution_count": 33,
   "id": "cb2d3494",
   "metadata": {},
   "outputs": [
    {
     "name": "stdout",
     "output_type": "stream",
     "text": [
      "[12:53:55] WARNING: ..\\src\\learner.cc:1115: Starting in XGBoost 1.3.0, the default evaluation metric used with the objective 'binary:logistic' was changed from 'error' to 'logloss'. Explicitly set eval_metric if you'd like to restore the old behavior.\n"
     ]
    },
    {
     "data": {
      "text/plain": [
       "VotingClassifier(estimators=[('sgdclassifier',\n",
       "                              Pipeline(steps=[('vect',\n",
       "                                               CountVectorizer(ngram_range=(1,\n",
       "                                                                            5))),\n",
       "                                              ('tfidf', TfidfTransformer()),\n",
       "                                              ('nb', SGDClassifier())])),\n",
       "                             ('svcclassifier',\n",
       "                              Pipeline(steps=[('vect',\n",
       "                                               CountVectorizer(ngram_range=(1,\n",
       "                                                                            6))),\n",
       "                                              ('tfidf', TfidfTransformer()),\n",
       "                                              ('nb', SVC(kernel='linear'))])),\n",
       "                             ('xgbclassifier',\n",
       "                              Pipeline(steps=[('vect',\n",
       "                                               CountVector...\n",
       "                                                             interaction_constraints='',\n",
       "                                                             learning_rate=1.0,\n",
       "                                                             max_delta_step=0,\n",
       "                                                             max_depth=35,\n",
       "                                                             min_child_weight=1,\n",
       "                                                             missing=nan,\n",
       "                                                             monotone_constraints='()',\n",
       "                                                             n_estimators=100,\n",
       "                                                             n_jobs=8,\n",
       "                                                             num_parallel_tree=1,\n",
       "                                                             predictor='auto',\n",
       "                                                             random_state=0,\n",
       "                                                             reg_alpha=0,\n",
       "                                                             reg_lambda=1,\n",
       "                                                             scale_pos_weight=1,\n",
       "                                                             subsample=1,\n",
       "                                                             tree_method='exact',\n",
       "                                                             use_label_encoder=False,\n",
       "                                                             validate_parameters=1,\n",
       "                                                             verbosity=None))]))])"
      ]
     },
     "execution_count": 33,
     "metadata": {},
     "output_type": "execute_result"
    }
   ],
   "source": [
    "voting.fit(X_train, y_train)"
   ]
  },
  {
   "cell_type": "code",
   "execution_count": 34,
   "id": "1590e456",
   "metadata": {},
   "outputs": [],
   "source": [
    "yvoting_predict=voting.predict(X_test)"
   ]
  },
  {
   "cell_type": "code",
   "execution_count": 35,
   "id": "844d5076",
   "metadata": {},
   "outputs": [
    {
     "data": {
      "text/plain": [
       "0.8895000808930592"
      ]
     },
     "execution_count": 35,
     "metadata": {},
     "output_type": "execute_result"
    }
   ],
   "source": [
    "f1_score(y_test, yvoting_predict)"
   ]
  },
  {
   "cell_type": "code",
   "execution_count": 42,
   "id": "edda3386",
   "metadata": {},
   "outputs": [],
   "source": [
    "y_predictsvc=modelsvc.predict([\"government should not remove this attrocity rules\"])"
   ]
  },
  {
   "cell_type": "code",
   "execution_count": 43,
   "id": "da652fdc",
   "metadata": {},
   "outputs": [
    {
     "name": "stdout",
     "output_type": "stream",
     "text": [
      "it is an hate content\n"
     ]
    }
   ],
   "source": [
    "if y_predictsvc[0]==1:\n",
    "    print(\"it is an hate content\")\n",
    "else :\n",
    "    print(\"it is not an hate content\")"
   ]
  },
  {
   "cell_type": "code",
   "execution_count": null,
   "id": "b0e36a78",
   "metadata": {},
   "outputs": [],
   "source": []
  },
  {
   "cell_type": "code",
   "execution_count": null,
   "id": "b7f2c882",
   "metadata": {},
   "outputs": [],
   "source": []
  }
 ],
 "metadata": {
  "kernelspec": {
   "display_name": "Python 3 (ipykernel)",
   "language": "python",
   "name": "python3"
  },
  "language_info": {
   "codemirror_mode": {
    "name": "ipython",
    "version": 3
   },
   "file_extension": ".py",
   "mimetype": "text/x-python",
   "name": "python",
   "nbconvert_exporter": "python",
   "pygments_lexer": "ipython3",
   "version": "3.9.7"
  }
 },
 "nbformat": 4,
 "nbformat_minor": 5
}
