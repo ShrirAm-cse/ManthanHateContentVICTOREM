{
 "cells": [
  {
   "cell_type": "code",
   "execution_count": 12,
   "id": "cb5dcbbd",
   "metadata": {},
   "outputs": [],
   "source": [
    "from PIL import Image\n",
    "from pytesseract import pytesseract\n",
    "  \n"
   ]
  },
  {
   "cell_type": "code",
   "execution_count": 13,
   "id": "4cd956c8",
   "metadata": {},
   "outputs": [],
   "source": [
    "#pytesseract.pytesseract.tesseract_cmd = r\"C:\\Program Files\\Tesseract-OCR\\tesseract.exe\""
   ]
  },
  {
   "cell_type": "code",
   "execution_count": 14,
   "id": "6cfdfb39",
   "metadata": {},
   "outputs": [],
   "source": [
    "# Defining paths to tesseract.exe\n",
    "# and the image we would be using\n",
    "path_to_tesseract = r\"C:\\Program Files\\Tesseract-OCR\\tesseract.exe\"\n",
    "\n",
    "  \n"
   ]
  },
  {
   "cell_type": "code",
   "execution_count": 15,
   "id": "c8120b4a",
   "metadata": {},
   "outputs": [],
   "source": [
    "image_path = r\"D:\\WP\\newfinaltestimage.png\"\n"
   ]
  },
  {
   "cell_type": "code",
   "execution_count": 16,
   "id": "96e7630e",
   "metadata": {},
   "outputs": [
    {
     "name": "stdout",
     "output_type": "stream",
     "text": [
      "Cheatsheet\n",
      "\n",
      "Best Time To\n",
      "Post On Instagram\n",
      "\n",
      " \n",
      "\n",
      "‘Tuesday between 11 AM and 2 PM CDT.\n",
      "Weekdays between 11 AM and 2PM CDT is the\n",
      "\n",
      "On average, the best time to post on Instagram is Ny\n",
      "‘optimal time frame for increased engagement.\n",
      "\n",
      "Best Times to Post Each Day Best Time to Post by Industry\n",
      "\n",
      " \n",
      "\n",
      "Monday, Wednesday, Tech\n",
      "\n",
      "and Friday Best Times: Monday 10 AM\n",
      "10PMcoT\n",
      "\n",
      "11. AM-12.PM CDT\n",
      "Restaraunts\n",
      "\n",
      "Tuesday Best Times: Monday 9 AM\n",
      "1PMcoT\n",
      "\n",
      "11.AM-2.PM CDT\n",
      "\n",
      "‘Thursday Educational Organizations\n",
      "Best Times: Tuesday 8AM-12 PM,\n",
      "11 AM CDT ‘SPM-ePM.\n",
      "\n",
      "Healthcare Companies\n",
      "\n",
      "‘est Times: Monday 4 AM\n",
      "SAMCOT\n",
      "\n",
      "  \n",
      "  \n",
      "   \n",
      " \n",
      "\n",
      " \n",
      "  \n",
      " \n",
      "\n",
      "Nonprofits\n",
      "Best Timos: 10M\n",
      "‘PMcoT\n",
      "\n",
      "Monday ~ Friday\n",
      "11 AMDT\n"
     ]
    }
   ],
   "source": [
    "# Opening the image & storing it in an image object\n",
    "img = Image.open(image_path)\n",
    "  \n",
    "# Providing the tesseract executable\n",
    "# location to pytesseract library\n",
    "pytesseract.tesseract_cmd = path_to_tesseract\n",
    "  \n",
    "# Passing the image object to image_to_string() function\n",
    "# This function will extract the text from the image\n",
    "text = pytesseract.image_to_string(img)\n",
    "  \n",
    "# Displaying the extracted text\n",
    "print(text[:-1])"
   ]
  },
  {
   "cell_type": "code",
   "execution_count": 17,
   "id": "b31d24be",
   "metadata": {},
   "outputs": [],
   "source": []
  },
  {
   "cell_type": "code",
   "execution_count": 18,
   "id": "da8b264a",
   "metadata": {},
   "outputs": [],
   "source": []
  },
  {
   "cell_type": "code",
   "execution_count": 9,
   "id": "67d1df1f",
   "metadata": {},
   "outputs": [],
   "source": []
  },
  {
   "cell_type": "code",
   "execution_count": null,
   "id": "060663d7",
   "metadata": {},
   "outputs": [],
   "source": []
  },
  {
   "cell_type": "code",
   "execution_count": null,
   "id": "d9b87c89",
   "metadata": {},
   "outputs": [],
   "source": []
  }
 ],
 "metadata": {
  "kernelspec": {
   "display_name": "Python 3 (ipykernel)",
   "language": "python",
   "name": "python3"
  },
  "language_info": {
   "codemirror_mode": {
    "name": "ipython",
    "version": 3
   },
   "file_extension": ".py",
   "mimetype": "text/x-python",
   "name": "python",
   "nbconvert_exporter": "python",
   "pygments_lexer": "ipython3",
   "version": "3.9.7"
  }
 },
 "nbformat": 4,
 "nbformat_minor": 5
}
