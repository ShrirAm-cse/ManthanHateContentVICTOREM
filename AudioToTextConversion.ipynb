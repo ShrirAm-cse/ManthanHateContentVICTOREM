{
 "cells": [
  {
   "cell_type": "code",
   "execution_count": 3,
   "id": "47e08c87",
   "metadata": {},
   "outputs": [],
   "source": [
    "import speech_recognition as sr"
   ]
  },
  {
   "cell_type": "code",
   "execution_count": 4,
   "id": "d2260720",
   "metadata": {},
   "outputs": [],
   "source": [
    "filename=\"D:\\\\newtargetaudio.wav\""
   ]
  },
  {
   "cell_type": "code",
   "execution_count": 5,
   "id": "b8bbcdec",
   "metadata": {},
   "outputs": [],
   "source": [
    "import os \n",
    "from pydub import AudioSegment\n",
    "from pydub.silence import split_on_silence\n",
    "\n",
    "# create a speech recognition object\n",
    "r = sr.Recognizer()\n",
    "\n",
    "# a function that splits the audio file into chunks\n",
    "# and applies speech recognition\n",
    "def get_large_audio_transcription(path):\n",
    "    \"\"\"\n",
    "    Splitting the large audio file into chunks\n",
    "    and apply speech recognition on each of these chunks\n",
    "    \"\"\"\n",
    "    # open the audio file using pydub\n",
    "    sound = AudioSegment.from_wav(path)  \n",
    "    # split audio sound where silence is 700 miliseconds or more and get chunks\n",
    "    chunks = split_on_silence(sound,\n",
    "        # experiment with this value for your target audio file\n",
    "        min_silence_len = 500,\n",
    "        # adjust this per requirement\n",
    "        silence_thresh = sound.dBFS-14,\n",
    "        # keep the silence for 1 second, adjustable as well\n",
    "        keep_silence=500,\n",
    "    )\n",
    "    folder_name = \"audio-chunks\"\n",
    "    # create a directory to store the audio chunks\n",
    "    if not os.path.isdir(folder_name):\n",
    "        os.mkdir(folder_name)\n",
    "    whole_text = \"\"\n",
    "    # process each chunk \n",
    "    for i, audio_chunk in enumerate(chunks, start=1):\n",
    "        # export audio chunk and save it in\n",
    "        # the `folder_name` directory.\n",
    "        chunk_filename = os.path.join(folder_name, f\"chunk{i}.wav\")\n",
    "        audio_chunk.export(chunk_filename, format=\"wav\")\n",
    "        # recognize the chunk\n",
    "        with sr.AudioFile(chunk_filename) as source:\n",
    "            audio_listened = r.record(source)\n",
    "            # try converting it to text\n",
    "            try:\n",
    "                text = r.recognize_google(audio_listened)\n",
    "            except sr.UnknownValueError as e:\n",
    "                pass\n",
    "                #print(\"Error:\", str(e))\n",
    "            else:\n",
    "                text = f\"{text.capitalize()}. \"\n",
    "                #print(chunk_filename, \":\", text)\n",
    "                whole_text += text\n",
    "    # return the text for all chunks detected\n",
    "    return whole_text"
   ]
  },
  {
   "cell_type": "code",
   "execution_count": 6,
   "id": "4994b643",
   "metadata": {},
   "outputs": [
    {
     "data": {
      "text/plain": [
       "\"How many. Categories to use store displays book store. And character gori se you quite. Sanda. New fire fire you mean by indicator. That face 96. Categories. 2 billion. Active users that 192 billion data points been generated i can get any time. From consumers google play store. How many do you does facebook store reduced or any. Sundaram i am not sure what that is referring to. How many specific weapons or gear and none facebook web pages. Vitamin i don't know the answer to that of the top of my head before ok back to you. I will search the white button on pages. More is the mad but i don't know which number pages that have the right path. Aahat. How many facebook share buttons are there a non facebook web pages. I don't know the answer that exactly of the chat my head is there but that's something that we can. And with that they were hunted. Americans a facebook pixel cloud are there and none facebook web pages. Kashmir asking in specific stats l i don't know after my head provision. Guitar tuner. Your first step to take care of your back in 2010. Use of this and republican ha was which year. Picsart background size pakka vishweshwari. Restore your breath. Xender. Yes there will always be a version of facebook ads free it is our mission to try and help connect everyone around the world in to bring about close together in order to that we believe the vinita for service that everyone can afford. Humidity during 8 years. Sanawad. Thailand. Some people prefer to the amazon stanford analytica. Do you agree. Sunrise at notre dame. Ok recent thailand. Cambridge analytica is preferred for servicing. How to do the static. Sunrider now. Do you think that home interior javascript data. Facebook. Underwear card. Do you think that. Join me. 2016 campaign. As cambridge analytica was providing support to the trump campaign. Under project animal. Whether any facebook people involved in sharing. Technical information. Sanghavi provided support to the trump campaign. Similar to we provide to. Any advertiser or campaign. Aakhir. Satguru. Which is the capital of sharing with the name of the water used in my friend. Ab. No. If you message to anybody this week with you share the names of the people you message. Sanedo. Meenakshi steel cookware. Is all about. Pension. User agreement. Respect. Baccha mein. Probably message. Mausam vibhag. Chinese internet. Dispossessed. How to stop internet which included in the director of the malicious third parties. Your personal data. Yes. \""
      ]
     },
     "execution_count": 6,
     "metadata": {},
     "output_type": "execute_result"
    }
   ],
   "source": [
    "get_large_audio_transcription(\"D:\\\\newtargetaudio.wav\")"
   ]
  },
  {
   "cell_type": "code",
   "execution_count": null,
   "id": "f115ef23",
   "metadata": {},
   "outputs": [],
   "source": []
  },
  {
   "cell_type": "code",
   "execution_count": null,
   "id": "8832463a",
   "metadata": {},
   "outputs": [],
   "source": []
  }
 ],
 "metadata": {
  "kernelspec": {
   "display_name": "Python 3 (ipykernel)",
   "language": "python",
   "name": "python3"
  },
  "language_info": {
   "codemirror_mode": {
    "name": "ipython",
    "version": 3
   },
   "file_extension": ".py",
   "mimetype": "text/x-python",
   "name": "python",
   "nbconvert_exporter": "python",
   "pygments_lexer": "ipython3",
   "version": "3.9.7"
  }
 },
 "nbformat": 4,
 "nbformat_minor": 5
}
